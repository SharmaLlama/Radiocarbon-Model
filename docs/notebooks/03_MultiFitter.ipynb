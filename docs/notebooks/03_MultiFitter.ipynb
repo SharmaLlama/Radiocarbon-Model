{
 "cells": [
  {
   "cell_type": "markdown",
   "id": "396a4290",
   "metadata": {},
   "source": [
    "# Tutorial on fitting multiple datasets using MultiFitter\n",
    "Often we have multiple datasets for a Miyake event. Instead of fitting a model to each dataset indivudually, we can use a MultiFitter object to fit to all the datasets at once! Here's how we can do it,"
   ]
  },
  {
   "cell_type": "code",
   "execution_count": 1,
   "id": "a0360dd6",
   "metadata": {},
   "outputs": [],
   "source": [
    "import numpy as np\n",
    "import ticktack\n",
    "import jax.numpy as jnp\n",
    "from jax import jit\n",
    "from ticktack import fitting\n",
    "import matplotlib as mpl\n",
    "mpl.style.use('seaborn-colorblind')"
   ]
  },
  {
   "cell_type": "code",
   "execution_count": 2,
   "id": "2fd79c75",
   "metadata": {},
   "outputs": [
    {
     "name": "stdout",
     "output_type": "stream",
     "text": [
      "Büntgen18_CHN01.csv     Büntgen18_SWE05.csv     Jull14_Bristlecone.csv\r\n",
      "Büntgen18_GER01.csv     Büntgen18_USA02.csv     Miyake12_Cedar.csv\r\n",
      "Büntgen18_GER07.csv     Büntgen18_USA11.csv     Rakowski15_Oak.csv\r\n",
      "Büntgen18_JAP01.csv     Büntgen18_USA18.csv     Scifo19_Oak.csv\r\n",
      "Büntgen18_MON03.csv     Guttler15_Kauri.csv\r\n"
     ]
    }
   ],
   "source": [
    "ls ../../notebooks/775CE/"
   ]
  },
  {
   "cell_type": "markdown",
   "id": "d144b7c2",
   "metadata": {},
   "source": [
    "First, we need to make a directory and place our datasets inside it. Each dataset should be a csv file, and has the same format as `example.csv`.\n",
    "\n",
    "\n",
    "### Example 1: Fit a sinusoid model to the `775CE` Miyake event with `MCMC`."
   ]
  },
  {
   "cell_type": "code",
   "execution_count": null,
   "id": "045dbbc5",
   "metadata": {},
   "outputs": [
    {
     "name": "stdout",
     "output_type": "stream",
     "text": [
      "Retrieving data...\n"
     ]
    },
    {
     "name": "stderr",
     "output_type": "stream",
     "text": [
      "100%|███████████████████████████████████████████| 14/14 [00:03<00:00,  4.02it/s]\n"
     ]
    },
    {
     "name": "stdout",
     "output_type": "stream",
     "text": [
      "Running burn-in...\n"
     ]
    },
    {
     "name": "stderr",
     "output_type": "stream",
     "text": [
      "100%|█████████████████████████████████████████| 500/500 [02:37<00:00,  3.18it/s]\n"
     ]
    },
    {
     "name": "stdout",
     "output_type": "stream",
     "text": [
      "Running production...\n"
     ]
    },
    {
     "name": "stderr",
     "output_type": "stream",
     "text": [
      " 99%|██████████████████████████████████████▋| 1982/2000 [10:36<00:05,  3.09it/s]"
     ]
    }
   ],
   "source": [
    "mf, sampler = fitting.fit_event(year=775, # the year of the event\n",
    "                                path='../../notebooks/775CE/', \n",
    "                                production_model=\"simple_sinusoid\", \n",
    "                                sampler=\"MCMC\", \n",
    "                                params=jnp.array([775.1, -1., 1.6, np.log10(6.5)]),  # start date, duration, phase, area\n",
    "                                low_bounds=jnp.array([770., -1.5, 0, -2]),\n",
    "                                up_bounds=jnp.array([780., 1.5, 11, 1.5]),\n",
    "                                burnin=500, production=2000)\n",
    "\n",
    "samples = sampler.copy()\n",
    "samples[:,1] = 10**samples[:,1] # duration not log duration\n",
    "samples[:,-1] = 10**samples[:,-1] # area not log area"
   ]
  },
  {
   "cell_type": "code",
   "execution_count": null,
   "id": "45937255",
   "metadata": {},
   "outputs": [],
   "source": [
    "labels = [\"start date (yr)\", \"duration (yr)\", \"$\\phi$ (yr)\", \"spike production (atoms/cm$^2$ yr/s)\"]\n",
    "mf.chain_summary(samples, walkers=8, labels=labels) # by default walker = dim(params) * 2"
   ]
  },
  {
   "cell_type": "markdown",
   "id": "59563856",
   "metadata": {},
   "source": [
    "This is a rough estimate of the posterior of these parameters. We can get a much better corner plot if the burn-in steps and the production steps are higher (say 1000).\n",
    "\n",
    "We can also define a custom parametric production model for fitting a MultiFitter. Here we will use a simple flat production function with a super gaussian spike. The only parameters for this model are: start date of the event, duration of the event, spike production\n",
    "\n",
    "### Example 2: Fit a custom model to the `775CE` Miyake event with `MCMC`."
   ]
  },
  {
   "cell_type": "code",
   "execution_count": null,
   "id": "180003bc",
   "metadata": {},
   "outputs": [],
   "source": [
    "@jit\n",
    "def super_gaussian(t, start_time, duration, area):\n",
    "    middle = start_time + duration / 2.\n",
    "    height = area / duration\n",
    "    return height * jnp.exp(- ((t - middle) / (1. / 1.93516 * duration)) ** 16.)\n",
    "@jit\n",
    "def super_gaussian_pulse(t, *args):\n",
    "    start_time, duration, area = jnp.array(list(args)).reshape(-1)\n",
    "    height = super_gaussian(t, start_time, duration, area)\n",
    "    production = 1.88 + height # 1.88 is the steady state production rate for Guttler15 model\n",
    "    return production"
   ]
  },
  {
   "cell_type": "code",
   "execution_count": null,
   "id": "ef4d425f",
   "metadata": {},
   "outputs": [],
   "source": [
    "mf, sampler = fitting.fit_event(year=775, \n",
    "                                path='../../notebooks/775CE/', \n",
    "                                production_model=super_gaussian_pulse, \n",
    "                                sampler=\"MCMC\", \n",
    "                                params=jnp.array([775.1, 0.3, 6.5]), \n",
    "                                low_bounds=jnp.array([770., 0., 0.]),\n",
    "                                up_bounds=jnp.array([780., 5., 15.]), \n",
    "                               burnin=500, production=2000)"
   ]
  },
  {
   "cell_type": "code",
   "execution_count": null,
   "id": "29be2464",
   "metadata": {},
   "outputs": [],
   "source": [
    "labels = [\"start date (yr)\", \"duration (yr)\", \"spike production (atoms/cm$^2$ yr/s)\"]\n",
    "mf.chain_summary(sampler, walkers=6, labels=labels)"
   ]
  }
 ],
 "metadata": {
  "kernelspec": {
   "display_name": "Python [conda env:ticktack]",
   "language": "python",
   "name": "conda-env-ticktack-py"
  },
  "language_info": {
   "codemirror_mode": {
    "name": "ipython",
    "version": 3
   },
   "file_extension": ".py",
   "mimetype": "text/x-python",
   "name": "python",
   "nbconvert_exporter": "python",
   "pygments_lexer": "ipython3",
   "version": "3.9.13"
  }
 },
 "nbformat": 4,
 "nbformat_minor": 5
}
