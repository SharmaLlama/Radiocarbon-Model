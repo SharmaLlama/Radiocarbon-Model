{
 "cells": [
  {
   "cell_type": "markdown",
   "id": "376d2b79",
   "metadata": {},
   "source": [
    "# Tutorial on fitting with `ticktack` and `emcee`\n",
    "\n",
    "Let's go through an example of how you would fit the original Miyake event time series from 774 AD ([Miyake et al, 2012](https://www.nature.com/articles/nature11123)) using tools from `ticktack`. First we import everything."
   ]
  },
  {
   "cell_type": "code",
   "execution_count": 1,
   "id": "2caec0bb",
   "metadata": {},
   "outputs": [],
   "source": [
    "import numpy as np\n",
    "import matplotlib.pyplot as plt\n",
    "\n",
    "import ticktack\n",
    "from ticktack import fitting\n",
    "\n",
    "from tqdm import tqdm\n",
    "from matplotlib.lines import Line2D"
   ]
  },
  {
   "cell_type": "markdown",
   "id": "f88a9ba7",
   "metadata": {},
   "source": [
    "Now, we load a presaved model; `ticktack` currently has pre-saved reimplementations of the carbon box models from\n",
    "['Guttler15'](https://www.sciencedirect.com/science/article/pii/S0012821X14007481?via%3Dihub#fg0030), ['Brehm21'](https://www.nature.com/articles/s41561-020-00674-0), ['Miyake17'](https://ui.adsabs.harvard.edu/abs/2017PNAS..114..881M/abstract), or ['Buntgen18'](https://www.nature.com/articles/s41467-018-06036-0#Sec12). "
   ]
  },
  {
   "cell_type": "code",
   "execution_count": 2,
   "id": "363131f4",
   "metadata": {},
   "outputs": [],
   "source": [
    "cbm = ticktack.load_presaved_model(\"Guttler15\", production_rate_units = \"atoms/cm^2/s\")"
   ]
  },
  {
   "cell_type": "markdown",
   "id": "cd1afb2a",
   "metadata": {},
   "source": [
    "Now we initialize a `SingleFitter` object using this carbon box model, together with the data from Miyake et al, 2012. This will handle Bayesian inference of production rates conditioned on these data."
   ]
  },
  {
   "cell_type": "code",
   "execution_count": 3,
   "id": "a998662f",
   "metadata": {},
   "outputs": [],
   "source": [
    "sf = fitting.SingleFitter(cbm, cbm_model=\"Guttler15\")\n",
    "sf.load_data(\"miyake12.csv\")\n",
    "sf.compile_production_model(model=\"simple_sinusoid\")"
   ]
  },
  {
   "cell_type": "code",
   "execution_count": 4,
   "id": "63da0df4",
   "metadata": {},
   "outputs": [
    {
     "data": {
      "text/plain": [
       "0.4583333333333333"
      ]
     },
     "execution_count": 4,
     "metadata": {},
     "output_type": "execute_result"
    }
   ],
   "source": [
    "sf.time_offset"
   ]
  },
  {
   "cell_type": "markdown",
   "id": "804c5928",
   "metadata": {},
   "source": [
    "The default engine for sampling from this posterior is [emcee](https://emcee.readthedocs.io/en/stable/). We are working on implementing nested sampling and variational inference. We call `emcee` from a method of the `SingleFitter` object like this, where params are (arrival time in years, duration in years, solar cycle phase in years, and total radiocarbon delivered in production rate times years)."
   ]
  },
  {
   "cell_type": "code",
   "execution_count": null,
   "id": "6bd3100e",
   "metadata": {},
   "outputs": [
    {
     "name": "stdout",
     "output_type": "stream",
     "text": [
      "Running burn-in...\n"
     ]
    },
    {
     "name": "stderr",
     "output_type": "stream",
     "text": [
      " 65%|██████████████████████████▋              | 326/500 [01:07<00:35,  4.85it/s]"
     ]
    }
   ],
   "source": [
    "%%time\n",
    "default_params = np.array([775., np.log10(1./12), np.pi/2., np.log10(81./12)]) # start date, duration, phase, area\n",
    "sampler = sf.MarkovChainSampler(default_params, \n",
    "                                likelihood = sf.log_joint_likelihood, \n",
    "                                burnin = 500, \n",
    "                                production = 2000, \n",
    "                                args = (np.array([770., np.log10(1/52.), 0, -2]), # lower bound\n",
    "                                np.array([780., np.log10(5.), 11, 1.5]))         # upper bound \n",
    "                               )\n",
    "samples = sampler.copy()\n",
    "samples[:,1] = 10**samples[:,1] # duration not log duration\n",
    "samples[:,-1] = 10**samples[:,-1] # area not log area"
   ]
  },
  {
   "cell_type": "markdown",
   "id": "30bd20ba",
   "metadata": {},
   "source": [
    "Plot of posterior surface using [ChainConsumer](https://samreay.github.io/ChainConsumer/):"
   ]
  },
  {
   "cell_type": "code",
   "execution_count": null,
   "id": "f79a2b3b",
   "metadata": {},
   "outputs": [],
   "source": [
    "labels = [\"Start Date (yr)\", \"Duration (yr)\", \"phi (yr)\", \"Area\"]\n",
    "fig = sf.chain_summary(samples, 8, labels=labels, label_font_size=12, tick_font_size=12)"
   ]
  },
  {
   "cell_type": "markdown",
   "id": "9cc07829",
   "metadata": {},
   "source": [
    "And a plot of models evaluated from samples of the posterior parameters shows a pretty good fit!"
   ]
  },
  {
   "cell_type": "code",
   "execution_count": null,
   "id": "d765054a",
   "metadata": {},
   "outputs": [],
   "source": [
    "fig, (ax1, ax2) = plt.subplots(2, figsize=(8, 8), sharex=True, gridspec_kw={'height_ratios': [2, 1]}, dpi=80)\n",
    "fig.subplots_adjust(hspace=0.05)\n",
    "plt.rcParams.update({\"text.usetex\": False})\n",
    "idx = np.random.randint(len(sampler), size=100)\n",
    "for param in tqdm(sampler[idx]):\n",
    "    ax1.plot(sf.time_data_fine, sf.dc14_fine(params=param), alpha=0.05, color=\"g\")\n",
    "\n",
    "for param in tqdm(sampler[idx][:30]):\n",
    "    ax2.plot(sf.time_data_fine, sf.production(sf.time_data_fine, *param), alpha=0.2, color=\"g\")\n",
    "\n",
    "ax1.errorbar(sf.time_data + sf.time_offset, sf.d14c_data, yerr=sf.d14c_data_error, \n",
    "             fmt=\"ok\", capsize=3, markersize=6, elinewidth=3, label=\"$\\Delta^{14}$C data\")\n",
    "ax1.legend(frameon=False);\n",
    "ax2.set_ylim(1, 10);\n",
    "ax1.set_ylabel(\"$\\Delta^{14}$C (‰)\")\n",
    "ax2.set_xlabel(\"Calendar Year\");\n",
    "ax2.set_ylabel(\"Production rate (atoms cm$^2$s$^{-1}$)\");"
   ]
  }
 ],
 "metadata": {
  "celltoolbar": "Edit Metadata",
  "kernelspec": {
   "display_name": "Python [conda env:ticktack]",
   "language": "python",
   "name": "conda-env-ticktack-py"
  },
  "language_info": {
   "codemirror_mode": {
    "name": "ipython",
    "version": 3
   },
   "file_extension": ".py",
   "mimetype": "text/x-python",
   "name": "python",
   "nbconvert_exporter": "python",
   "pygments_lexer": "ipython3",
   "version": "3.9.13"
  }
 },
 "nbformat": 4,
 "nbformat_minor": 5
}
