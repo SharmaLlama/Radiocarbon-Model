{
 "cells": [
  {
   "cell_type": "code",
   "execution_count": 1,
   "id": "a936260f",
   "metadata": {},
   "outputs": [],
   "source": [
    "import matplotlib.pyplot as plt\n",
    "import numpy as np\n",
    "import ticktack\n",
    "from ticktack import fitting\n",
    "import os\n",
    "from matplotlib.lines import Line2D\n",
    "import matplotlib as mpl\n",
    "from matplotlib.ticker import MaxNLocator\n",
    "mpl.style.use('seaborn-colorblind')"
   ]
  },
  {
   "cell_type": "code",
   "execution_count": 2,
   "id": "7cb88826",
   "metadata": {},
   "outputs": [
    {
     "name": "stderr",
     "output_type": "stream",
     "text": [
      "INFO[2022-02-22 17:49:37,775]: Unable to initialize backend 'tpu_driver': Not found: Unable to find driver in registry given worker: \n",
      "INFO[2022-02-22 17:49:37,776]: Unable to initialize backend 'gpu': Not found: Could not find registered platform with name: \"cuda\". Available platform names are: Interpreter Host\n",
      "INFO[2022-02-22 17:49:37,777]: Unable to initialize backend 'tpu': Invalid argument: TpuPlatform is not available.\n",
      "WARNING[2022-02-22 17:49:37,777]: No GPU/TPU found, falling back to CPU. (Set TF_CPP_MIN_LOG_LEVEL=0 and rerun for more info.)\n"
     ]
    }
   ],
   "source": [
    "sf = fitting.SingleFitter(\"Brehm21\", \"Brehm21\")\n",
    "sf.load_data(\"data/ETH.csv\")\n",
    "# result = sf.MC_mean_std(iters=1000)"
   ]
  },
  {
   "cell_type": "code",
   "execution_count": 4,
   "id": "3baa6cec",
   "metadata": {},
   "outputs": [
    {
     "data": {
      "text/plain": [
       "(968, 984)"
      ]
     },
     "execution_count": 4,
     "metadata": {},
     "output_type": "execute_result"
    }
   ],
   "source": [
    "sf.time_data.size, sf.annual.size"
   ]
  },
  {
   "cell_type": "code",
   "execution_count": null,
   "id": "2bde2c7d",
   "metadata": {},
   "outputs": [],
   "source": []
  }
 ],
 "metadata": {
  "kernelspec": {
   "display_name": "Python 3 (ipykernel)",
   "language": "python",
   "name": "python3"
  },
  "language_info": {
   "codemirror_mode": {
    "name": "ipython",
    "version": 3
   },
   "file_extension": ".py",
   "mimetype": "text/x-python",
   "name": "python",
   "nbconvert_exporter": "python",
   "pygments_lexer": "ipython3",
   "version": "3.8.10"
  }
 },
 "nbformat": 4,
 "nbformat_minor": 5
}
