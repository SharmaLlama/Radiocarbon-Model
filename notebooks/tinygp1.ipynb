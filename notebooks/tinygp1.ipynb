{
 "cells": [
  {
   "cell_type": "code",
   "execution_count": 1,
   "id": "ee6c7ff9",
   "metadata": {},
   "outputs": [],
   "source": [
    "import numpy as np\n",
    "import ticktack\n",
    "from ticktack import fitting\n",
    "import matplotlib.pyplot as plt"
   ]
  },
  {
   "cell_type": "code",
   "execution_count": 2,
   "id": "5bf35329",
   "metadata": {},
   "outputs": [],
   "source": [
    "import jax.numpy as jnp\n",
    "from jax import jit, grad, hessian, jacrev\n",
    "import jax\n",
    "from tinygp import kernels, GaussianProcess"
   ]
  },
  {
   "cell_type": "code",
   "execution_count": 3,
   "id": "ccd0f79e",
   "metadata": {},
   "outputs": [
    {
     "name": "stderr",
     "output_type": "stream",
     "text": [
      "INFO[2022-03-04 13:24:34,297]: Unable to initialize backend 'tpu_driver': Not found: Unable to find driver in registry given worker: \n",
      "INFO[2022-03-04 13:24:34,306]: Unable to initialize backend 'gpu': Not found: Could not find registered platform with name: \"cuda\". Available platform names are: Host Interpreter\n",
      "INFO[2022-03-04 13:24:34,311]: Unable to initialize backend 'tpu': Invalid argument: TpuPlatform is not available.\n",
      "WARNING[2022-03-04 13:24:34,313]: No GPU/TPU found, falling back to CPU. (Set TF_CPP_MIN_LOG_LEVEL=0 and rerun for more info.)\n"
     ]
    }
   ],
   "source": [
    "sf2 = fitting.SingleFitter(\"Brehm21\", \"Brehm21\")\n",
    "sf2.load_data(\"miyake12.csv\", oversample=12)\n",
    "sf2.compile_production_model(model=\"control_points\")"
   ]
  },
  {
   "cell_type": "code",
   "execution_count": 4,
   "id": "88be6826",
   "metadata": {},
   "outputs": [
    {
     "data": {
      "text/plain": [
       "(324,)"
      ]
     },
     "execution_count": 4,
     "metadata": {},
     "output_type": "execute_result"
    }
   ],
   "source": [
    "def build_gp(*args):\n",
    "    params = jnp.array(list(args)).reshape(-1)\n",
    "    kernel = kernels.Matern32(1)\n",
    "    return GaussianProcess(kernel, sf2.control_points_time, mean=params[0])\n",
    "\n",
    "@jit\n",
    "def interp_gp(tval, *args):\n",
    "    tval = tval.reshape(-1)\n",
    "    gp = build_gp(*args)\n",
    "    params = jnp.array(list(args)).reshape(-1)\n",
    "    return gp.condition(params, tval)[1].loc\n",
    "\n",
    "@jit\n",
    "def log_likelihood_gp(params):\n",
    "    kernel = kernels.Matern32(1)\n",
    "    gp = GaussianProcess(kernel, sf2.control_points_time, mean=params[0])\n",
    "    return gp.log_probability(params)\n",
    "\n",
    "@jit\n",
    "def log_joint_likelihood_gp(params, low_bounds, up_bounds):\n",
    "    lp = jnp.any((params < low_bounds) | (params > up_bounds)) * -jnp.inf\n",
    "    return sf2.log_likelihood(params=params) + log_likelihood_gp(params) + lp\n",
    "\n",
    "sf2.production = interp_gp\n",
    "sf2.control_points_time_fine.shape"
   ]
  },
  {
   "cell_type": "code",
   "execution_count": 10,
   "id": "82a4ef81",
   "metadata": {},
   "outputs": [],
   "source": [
    "params = np.ones(sf2.control_points_time.shape)\n",
    "low = np.zeros(sf2.control_points_time.shape)\n",
    "high = np.ones(sf2.control_points_time.shape) * 100"
   ]
  },
  {
   "cell_type": "code",
   "execution_count": 5,
   "id": "73f829ee",
   "metadata": {},
   "outputs": [],
   "source": [
    "random = np.random.randn(sf2.control_points_time.size)"
   ]
  },
  {
   "cell_type": "code",
   "execution_count": 7,
   "id": "9f3081af",
   "metadata": {},
   "outputs": [],
   "source": [
    "@jit\n",
    "def grad_log_joint_likelihood_gp(params, low_bounds, up_bounds):\n",
    "    return grad(log_joint_likelihood_gp)(params, low_bounds, up_bounds)"
   ]
  },
  {
   "cell_type": "code",
   "execution_count": 8,
   "id": "384ee9ec",
   "metadata": {},
   "outputs": [],
   "source": [
    "@jit\n",
    "def hess_log_joint_likelihood_gp(params, low_bounds, up_bounds):\n",
    "    return jacrev(jacrev(log_joint_likelihood_gp))(params, low_bounds, up_bounds)"
   ]
  },
  {
   "cell_type": "code",
   "execution_count": 11,
   "id": "73a5808b",
   "metadata": {},
   "outputs": [
    {
     "name": "stdout",
     "output_type": "stream",
     "text": [
      "703 ms ± 55.3 ms per loop (mean ± std. dev. of 7 runs, 1 loop each)\n"
     ]
    }
   ],
   "source": [
    "%%timeit\n",
    "grad_log_joint_likelihood_gp(params, low, high)"
   ]
  },
  {
   "cell_type": "code",
   "execution_count": null,
   "id": "98117888",
   "metadata": {},
   "outputs": [],
   "source": [
    "%%timeit\n",
    "hess_log_joint_likelihood_gp(params, low, high)"
   ]
  },
  {
   "cell_type": "code",
   "execution_count": 11,
   "id": "31a57643",
   "metadata": {},
   "outputs": [
    {
     "name": "stdout",
     "output_type": "stream",
     "text": [
      "650 µs ± 65.6 µs per loop (mean ± std. dev. of 7 runs, 1 loop each)\n"
     ]
    }
   ],
   "source": [
    "%%timeit\n",
    "interp_gp(sf2.control_points_time_fine, params)\n",
    "# plt.plot(sf2.control_points_time_fine, interp_gp(sf2.control_points_time_fine, params))"
   ]
  },
  {
   "cell_type": "code",
   "execution_count": 12,
   "id": "220d0c1b",
   "metadata": {},
   "outputs": [
    {
     "name": "stdout",
     "output_type": "stream",
     "text": [
      "23.2 ms ± 1.89 ms per loop (mean ± std. dev. of 7 runs, 1 loop each)\n"
     ]
    }
   ],
   "source": [
    "%%timeit\n",
    "# log_joint_likelihood_gp(params)\n",
    "log_joint_likelihood_gp(params, low, high)"
   ]
  },
  {
   "cell_type": "code",
   "execution_count": 13,
   "id": "35c4d5ca",
   "metadata": {},
   "outputs": [
    {
     "data": {
      "text/plain": [
       "DeviceArray(-124980.6345283, dtype=float64)"
      ]
     },
     "execution_count": 13,
     "metadata": {},
     "output_type": "execute_result"
    }
   ],
   "source": [
    "log_joint_likelihood_gp(params, low, high)"
   ]
  },
  {
   "cell_type": "code",
   "execution_count": 14,
   "id": "220c5f17",
   "metadata": {},
   "outputs": [
    {
     "data": {
      "text/plain": [
       "DeviceArray(-21.15613452, dtype=float64)"
      ]
     },
     "execution_count": 14,
     "metadata": {},
     "output_type": "execute_result"
    }
   ],
   "source": [
    "log_likelihood_gp(params)"
   ]
  }
 ],
 "metadata": {
  "kernelspec": {
   "display_name": "Python 3 (ipykernel)",
   "language": "python",
   "name": "python3"
  },
  "language_info": {
   "codemirror_mode": {
    "name": "ipython",
    "version": 3
   },
   "file_extension": ".py",
   "mimetype": "text/x-python",
   "name": "python",
   "nbconvert_exporter": "python",
   "pygments_lexer": "ipython3",
   "version": "3.8.10"
  }
 },
 "nbformat": 4,
 "nbformat_minor": 5
}
