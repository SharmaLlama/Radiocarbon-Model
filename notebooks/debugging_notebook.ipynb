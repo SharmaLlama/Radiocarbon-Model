{
 "cells": [
  {
   "cell_type": "code",
   "execution_count": null,
   "id": "4a015be3",
   "metadata": {},
   "outputs": [],
   "source": [
    "import numpy as np\n",
    "import ticktack\n",
    "from ticktack import fitting\n",
    "import jax.numpy as jnp\n",
    "import matplotlib.pyplot as plt\n",
    "plt.rcParams['figure.figsize'] = (8.0, 6.0)\n",
    "from tqdm import tqdm"
   ]
  },
  {
   "cell_type": "code",
   "execution_count": null,
   "id": "93ce14c7",
   "metadata": {
    "scrolled": true
   },
   "outputs": [],
   "source": [
    "model = 'Guttler14'\n",
    "cbm = ticktack.load_presaved_model(model, production_rate_units = 'atoms/cm^2/s')\n",
    "sf = fitting.SingleFitter(cbm, model, box=\"Troposphere\", hemisphere=\"north\")\n",
    "sf.load_data(\"Sakurai20_CedarLw.csv\", burnin_time=1000)\n",
    "sf.compile_production_model(model=\"simple_sinusoid\")\n",
    "params = jnp.array([-660, 1./12, np.pi/2., 81./12])"
   ]
  },
  {
   "cell_type": "code",
   "execution_count": null,
   "id": "6be07d3a",
   "metadata": {},
   "outputs": [],
   "source": [
    "chain = sf.MarkovChainSampler(params, sf.log_joint_simple_sinusoid, burnin=2000, production=1000, \n",
    "                           args=(jnp.array([-660-5, 1/365., -jnp.pi, 0., 0.]),\n",
    "                                 jnp.array([-660+5, 5., jnp.pi, 15., 2.])\n",
    "                                ))"
   ]
  },
  {
   "cell_type": "code",
   "execution_count": null,
   "id": "34ce7a1e",
   "metadata": {},
   "outputs": [],
   "source": [
    "labels = [\"start date (yr)\", \"duration (yr)\", \"phi (yr)\", \"spike production (cm^2 yr/s)\"]\n",
    "fig, axs = plt.subplots(2, 2, figsize=(12, 8), sharex=True)\n",
    "axs = axs.flatten()\n",
    "for i in range(chain.shape[1]):\n",
    "    axs[i].plot(chain[:, i], 'b.', markersize=1, alpha=0.5)\n",
    "    axs[i].set_title(labels[i])\n",
    "    axs[i].get_xaxis().set_visible(False)"
   ]
  },
  {
   "cell_type": "markdown",
   "id": "5ab2cad7",
   "metadata": {},
   "source": [
    "## Plot binned d14c"
   ]
  },
  {
   "cell_type": "code",
   "execution_count": null,
   "id": "319b3577",
   "metadata": {},
   "outputs": [],
   "source": [
    "size = chain.shape[0]\n",
    "d14cs_bin = np.zeros((size, sf.time_data.size))\n",
    "for j in tqdm(range(size)):\n",
    "    dc14 = sf.dc14(params=chain[j, :])\n",
    "    d14cs_bin[j, :] = dc14"
   ]
  },
  {
   "cell_type": "code",
   "execution_count": null,
   "id": "f9948b8a",
   "metadata": {},
   "outputs": [],
   "source": [
    "for d14c in tqdm(d14cs_bin):\n",
    "    plt.plot(sf.time_data, d14c, 'g', alpha=0.05)"
   ]
  },
  {
   "cell_type": "code",
   "execution_count": null,
   "id": "d16ed461",
   "metadata": {},
   "outputs": [],
   "source": [
    "selected_chain = chain[(d14cs_bin[:, 9] < 5)] # select parameters that produce flat curves \n",
    "chain[(d14cs_bin[:, 19] > 9)]"
   ]
  },
  {
   "cell_type": "code",
   "execution_count": null,
   "id": "4e508468",
   "metadata": {},
   "outputs": [],
   "source": [
    "selected_chain.shape "
   ]
  },
  {
   "cell_type": "markdown",
   "id": "5c0fa96b",
   "metadata": {},
   "source": [
    "## Check the likelihood "
   ]
  },
  {
   "cell_type": "code",
   "execution_count": null,
   "id": "48ad4d1e",
   "metadata": {},
   "outputs": [],
   "source": [
    "i = 0\n",
    "like = np.zeros((selected_chain.shape[0],))\n",
    "for param in tqdm(selected_chain):\n",
    "    like[i] = sf.log_likelihood(param)\n",
    "    i +=1"
   ]
  },
  {
   "cell_type": "code",
   "execution_count": null,
   "id": "bfbe656b",
   "metadata": {},
   "outputs": [],
   "source": [
    "like"
   ]
  },
  {
   "cell_type": "code",
   "execution_count": null,
   "id": "7008ae55",
   "metadata": {},
   "outputs": [],
   "source": []
  }
 ],
 "metadata": {
  "kernelspec": {
   "display_name": "Python 3 (ipykernel)",
   "language": "python",
   "name": "python3"
  },
  "language_info": {
   "codemirror_mode": {
    "name": "ipython",
    "version": 3
   },
   "file_extension": ".py",
   "mimetype": "text/x-python",
   "name": "python",
   "nbconvert_exporter": "python",
   "pygments_lexer": "ipython3",
   "version": "3.8.10"
  }
 },
 "nbformat": 4,
 "nbformat_minor": 5
}
