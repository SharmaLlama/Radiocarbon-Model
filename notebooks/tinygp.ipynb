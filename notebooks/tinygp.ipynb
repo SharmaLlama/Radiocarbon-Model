{
 "cells": [
  {
   "cell_type": "code",
   "execution_count": 1,
   "id": "ee6c7ff9",
   "metadata": {},
   "outputs": [],
   "source": [
    "import numpy as np\n",
    "import ticktack\n",
    "from ticktack import fitting\n",
    "import matplotlib.pyplot as plt"
   ]
  },
  {
   "cell_type": "code",
   "execution_count": 2,
   "id": "566620a8",
   "metadata": {},
   "outputs": [
    {
     "name": "stderr",
     "output_type": "stream",
     "text": [
      "INFO[2022-03-04 12:08:52,716]: Unable to initialize backend 'tpu_driver': Not found: Unable to find driver in registry given worker: \n",
      "INFO[2022-03-04 12:08:52,717]: Unable to initialize backend 'gpu': Not found: Could not find registered platform with name: \"cuda\". Available platform names are: Interpreter Host\n",
      "INFO[2022-03-04 12:08:52,718]: Unable to initialize backend 'tpu': Invalid argument: TpuPlatform is not available.\n",
      "WARNING[2022-03-04 12:08:52,718]: No GPU/TPU found, falling back to CPU. (Set TF_CPP_MIN_LOG_LEVEL=0 and rerun for more info.)\n"
     ]
    }
   ],
   "source": [
    "sf = fitting.SingleFitter(\"Brehm21\", \"Brehm21\")\n",
    "sf.load_data(\"miyake12.csv\")\n",
    "sf.compile_production_model(model=\"control_points\")"
   ]
  },
  {
   "cell_type": "code",
   "execution_count": 3,
   "id": "747551be",
   "metadata": {},
   "outputs": [],
   "source": [
    "params = np.ones(sf.control_points_time.shape)\n",
    "low = np.zeros(sf.control_points_time.shape)\n",
    "high = np.ones(sf.control_points_time.shape) * 100\n",
    "sf.control_points_time_fine = np.linspace(sf.start, sf.end, int((sf.end - sf.start) * 108))"
   ]
  },
  {
   "cell_type": "code",
   "execution_count": 4,
   "id": "3714a39c",
   "metadata": {},
   "outputs": [
    {
     "name": "stdout",
     "output_type": "stream",
     "text": [
      "59.3 ms ± 1.39 ms per loop (mean ± std. dev. of 7 runs, 1 loop each)\n"
     ]
    }
   ],
   "source": [
    "%%timeit\n",
    "sf.log_joint_likelihood(params, low, high)"
   ]
  },
  {
   "cell_type": "code",
   "execution_count": 5,
   "id": "510317d5",
   "metadata": {},
   "outputs": [
    {
     "name": "stdout",
     "output_type": "stream",
     "text": [
      "239 µs ± 9.25 µs per loop (mean ± std. dev. of 7 runs, 1000 loops each)\n"
     ]
    }
   ],
   "source": [
    "%%timeit\n",
    "sf.interp_gp(sf.control_points_time_fine, params)"
   ]
  },
  {
   "cell_type": "code",
   "execution_count": 6,
   "id": "b47850ea",
   "metadata": {},
   "outputs": [
    {
     "data": {
      "text/plain": [
       "DeviceArray(-124996.9048177, dtype=float64)"
      ]
     },
     "execution_count": 6,
     "metadata": {},
     "output_type": "execute_result"
    }
   ],
   "source": [
    "sf.log_joint_likelihood(params, low, high)"
   ]
  },
  {
   "cell_type": "code",
   "execution_count": 7,
   "id": "d81e96a0",
   "metadata": {},
   "outputs": [
    {
     "data": {
      "text/plain": [
       "DeviceArray(-29.40287991, dtype=float64)"
      ]
     },
     "execution_count": 7,
     "metadata": {},
     "output_type": "execute_result"
    }
   ],
   "source": [
    "sf.log_likelihood_gp(params)"
   ]
  },
  {
   "cell_type": "code",
   "execution_count": 29,
   "id": "5bf35329",
   "metadata": {},
   "outputs": [],
   "source": [
    "import jax.numpy as jnp\n",
    "from jax import jit, grad, hessian, jacrev\n",
    "import jax\n",
    "from tinygp import kernels, GaussianProcess"
   ]
  },
  {
   "cell_type": "code",
   "execution_count": 9,
   "id": "ccd0f79e",
   "metadata": {},
   "outputs": [],
   "source": [
    "sf2 = fitting.SingleFitter(\"Brehm21\", \"Brehm21\")\n",
    "sf2.load_data(\"miyake12.csv\")\n",
    "sf2.compile_production_model(model=\"control_points\")"
   ]
  },
  {
   "cell_type": "code",
   "execution_count": 10,
   "id": "88be6826",
   "metadata": {},
   "outputs": [
    {
     "data": {
      "text/plain": [
       "(2916,)"
      ]
     },
     "execution_count": 10,
     "metadata": {},
     "output_type": "execute_result"
    }
   ],
   "source": [
    "def build_gp(*args):\n",
    "    params = jnp.array(list(args)).reshape(-1)\n",
    "    kernel = kernels.Matern32(1)\n",
    "    return GaussianProcess(kernel, sf2.control_points_time, mean=params[0])\n",
    "\n",
    "@jit\n",
    "def interp_gp(tval, *args):\n",
    "    tval = tval.reshape(-1)\n",
    "    gp = build_gp(*args)\n",
    "    params = jnp.array(list(args)).reshape(-1)\n",
    "    return gp.condition(params, tval)[1].loc\n",
    "\n",
    "@jit\n",
    "def log_likelihood_gp(params):\n",
    "    kernel = kernels.Matern32(1)\n",
    "    gp = GaussianProcess(kernel, sf2.control_points_time, mean=params[0])\n",
    "    return gp.log_probability(params)\n",
    "\n",
    "@jit\n",
    "def log_joint_likelihood_gp(params, low_bounds, up_bounds):\n",
    "    lp = jnp.any((params < low_bounds) | (params > up_bounds)) * -jnp.inf\n",
    "    return sf2.log_likelihood(params=params) + log_likelihood_gp(params) + lp\n",
    "\n",
    "sf2.production = interp_gp\n",
    "sf2.control_points_time_fine = jnp.linspace(sf2.start, sf2.end, int((sf2.end - sf2.start) * 108))\n",
    "sf2.control_points_time_fine.shape"
   ]
  },
  {
   "cell_type": "code",
   "execution_count": 18,
   "id": "73f829ee",
   "metadata": {},
   "outputs": [],
   "source": [
    "random = np.random.randn(sf2.control_points_time.size)"
   ]
  },
  {
   "cell_type": "code",
   "execution_count": 22,
   "id": "cd2747a9",
   "metadata": {},
   "outputs": [
    {
     "data": {
      "text/plain": [
       "[<matplotlib.lines.Line2D at 0x7eff84460850>]"
      ]
     },
     "execution_count": 22,
     "metadata": {},
     "output_type": "execute_result"
    },
    {
     "data": {
      "image/png": "[encoded data removed]",
      "text/plain": [
       "<Figure size 432x288 with 1 Axes>"
      ]
     },
     "metadata": {
      "needs_background": "light"
     },
     "output_type": "display_data"
    }
   ],
   "source": [
    "plt.plot(interp_gp(sf2.control_points_time_fine, random))\n",
    "plt.plot(sf.interp_gp(sf2.control_points_time_fine, random))"
   ]
  },
  {
   "cell_type": "code",
   "execution_count": 24,
   "id": "9f3081af",
   "metadata": {},
   "outputs": [],
   "source": [
    "@jit\n",
    "def grad_log_joint_likelihood_gp(params, low_bounds, up_bounds):\n",
    "    return grad(log_joint_likelihood_gp)(params, low_bounds, up_bounds)"
   ]
  },
  {
   "cell_type": "code",
   "execution_count": 30,
   "id": "384ee9ec",
   "metadata": {},
   "outputs": [],
   "source": [
    "@jit\n",
    "def hess_log_joint_likelihood_gp(params, low_bounds, up_bounds):\n",
    "    return jacrev(jacrev(log_joint_likelihood_gp))(params, low_bounds, up_bounds)"
   ]
  },
  {
   "cell_type": "code",
   "execution_count": 25,
   "id": "73a5808b",
   "metadata": {},
   "outputs": [
    {
     "name": "stdout",
     "output_type": "stream",
     "text": [
      "1.34 s ± 9.9 ms per loop (mean ± std. dev. of 7 runs, 1 loop each)\n"
     ]
    }
   ],
   "source": [
    "%%timeit\n",
    "grad_log_joint_likelihood_gp(params, low, high)"
   ]
  },
  {
   "cell_type": "code",
   "execution_count": null,
   "id": "98117888",
   "metadata": {},
   "outputs": [],
   "source": [
    "%%timeit\n",
    "hess_log_joint_likelihood_gp(params, low, high)"
   ]
  },
  {
   "cell_type": "code",
   "execution_count": 11,
   "id": "31a57643",
   "metadata": {},
   "outputs": [
    {
     "name": "stdout",
     "output_type": "stream",
     "text": [
      "650 µs ± 65.6 µs per loop (mean ± std. dev. of 7 runs, 1 loop each)\n"
     ]
    }
   ],
   "source": [
    "%%timeit\n",
    "interp_gp(sf2.control_points_time_fine, params)\n",
    "# plt.plot(sf2.control_points_time_fine, interp_gp(sf2.control_points_time_fine, params))"
   ]
  },
  {
   "cell_type": "code",
   "execution_count": 12,
   "id": "220d0c1b",
   "metadata": {},
   "outputs": [
    {
     "name": "stdout",
     "output_type": "stream",
     "text": [
      "23.2 ms ± 1.89 ms per loop (mean ± std. dev. of 7 runs, 1 loop each)\n"
     ]
    }
   ],
   "source": [
    "%%timeit\n",
    "# log_joint_likelihood_gp(params)\n",
    "log_joint_likelihood_gp(params, low, high)"
   ]
  },
  {
   "cell_type": "code",
   "execution_count": 13,
   "id": "35c4d5ca",
   "metadata": {},
   "outputs": [
    {
     "data": {
      "text/plain": [
       "DeviceArray(-124980.6345283, dtype=float64)"
      ]
     },
     "execution_count": 13,
     "metadata": {},
     "output_type": "execute_result"
    }
   ],
   "source": [
    "log_joint_likelihood_gp(params, low, high)"
   ]
  },
  {
   "cell_type": "code",
   "execution_count": 14,
   "id": "220c5f17",
   "metadata": {},
   "outputs": [
    {
     "data": {
      "text/plain": [
       "DeviceArray(-21.15613452, dtype=float64)"
      ]
     },
     "execution_count": 14,
     "metadata": {},
     "output_type": "execute_result"
    }
   ],
   "source": [
    "log_likelihood_gp(params)"
   ]
  }
 ],
 "metadata": {
  "kernelspec": {
   "display_name": "Python 3 (ipykernel)",
   "language": "python",
   "name": "python3"
  },
  "language_info": {
   "codemirror_mode": {
    "name": "ipython",
    "version": 3
   },
   "file_extension": ".py",
   "mimetype": "text/x-python",
   "name": "python",
   "nbconvert_exporter": "python",
   "pygments_lexer": "ipython3",
   "version": "3.8.10"
  }
 },
 "nbformat": 4,
 "nbformat_minor": 5
}
