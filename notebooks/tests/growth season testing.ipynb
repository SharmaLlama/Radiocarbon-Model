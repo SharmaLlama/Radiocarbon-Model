{
 "cells": [
  {
   "cell_type": "code",
   "execution_count": 61,
   "metadata": {},
   "outputs": [
    {
     "name": "stdout",
     "output_type": "stream",
     "text": [
      "/Users/utkarshsharma\n"
     ]
    }
   ],
   "source": []
  },
  {
   "cell_type": "code",
   "execution_count": 1,
   "metadata": {},
   "outputs": [],
   "source": [
    "from ticktack import *\n"
   ]
  },
  {
   "cell_type": "code",
   "execution_count": 2,
   "metadata": {},
   "outputs": [
    {
     "data": {
      "text/plain": [
       "'/home/utkarsh/anaconda3/envs/ticktack/lib/python3.8/site-packages/ticktack/ticktack.py'"
      ]
     },
     "execution_count": 2,
     "metadata": {},
     "output_type": "execute_result"
    }
   ],
   "source": [
    "ticktack.__file__"
   ]
  },
  {
   "cell_type": "code",
   "execution_count": 3,
   "metadata": {},
   "outputs": [],
   "source": [
    "import matplotlib.pyplot as plt\n",
    "import jax.numpy as jnp"
   ]
  },
  {
   "cell_type": "code",
   "execution_count": 429,
   "metadata": {},
   "outputs": [
    {
     "data": {
      "image/png": "[encoded data removed]",
      "text/plain": [
       "<Figure size 432x288 with 1 Axes>"
      ]
     },
     "metadata": {
      "needs_background": "light"
     },
     "output_type": "display_data"
    }
   ],
   "source": [
    "dates = np.linspace(774, 776,100)\n",
    "t = np.linspace(773,777,4*300)\n",
    "binned = []\n",
    "act = []\n",
    "\n",
    "def rebin(s, ti):\n",
    "    start_month_bin_index = 3\n",
    "    time_out = [774, 775, 776]\n",
    "    sample_per_month = 25\n",
    "    binned_data = np.array([0.0] * 3)    \n",
    "    thing = []\n",
    "\n",
    "    for i in range(len(time_out)):\n",
    "        mask = (ti > (774 +i - 0.75)) * (ti < (774 + i + 1 - 0.75))\n",
    "        chunk = s[(i + 1) * 300 - start_month_bin_index  * 25: (i + 2) * 300 - start_month_bin_index * 25]\n",
    "        masked = np.linspace(0,1,chunk.shape[0])\n",
    "        kernel = 1.0*(0.5<masked) # move this outside\n",
    "        binned_data[i] = np.sum(chunk*kernel)/(np.sum(kernel))\n",
    "    \n",
    "    return binned_data[1], thing\n",
    "            \n",
    "def intervals(growth_seasons):\n",
    "    a = 0\n",
    "    b = 0\n",
    "    interval = []\n",
    "    \n",
    "    for i, growth in enumerate(growth_seasons):\n",
    "        \n",
    "        if growth == 1:\n",
    "            b = i\n",
    "        elif growth == 0 and b != 0:\n",
    "            interval.append((a,b))\n",
    "            b = 0\n",
    "            a = i\n",
    "        elif growth == 0 and b == 0:\n",
    "            a += 1\n",
    "    if b != 0:\n",
    "        interval.append((a,b))\n",
    "    \n",
    "    return interval\n",
    "            \n",
    "\n",
    "\n",
    "for date in dates:\n",
    "    step = 1.0 * (t > date)\n",
    "    a, thing = rebin(step, t)\n",
    "    binned.append(a)\n",
    "\n",
    "binned = np.array(binned)\n",
    "plt.plot(dates, binned)\n",
    "plt.axvline(774.75)\n",
    "plt.axvline(775.25)\n",
    "plt.show()\n"
   ]
  },
  {
   "cell_type": "code",
   "execution_count": 363,
   "metadata": {},
   "outputs": [
    {
     "data": {
      "image/png": "[encoded data removed]",
      "text/plain": [
       "<Figure size 432x288 with 1 Axes>"
      ]
     },
     "metadata": {
      "needs_background": "light"
     },
     "output_type": "display_data"
    }
   ],
   "source": [
    "for j,ch in enumerate(thing): \n",
    "    plt.plot(j + ch)"
   ]
  },
  {
   "cell_type": "code",
   "execution_count": null,
   "metadata": {},
   "outputs": [],
   "source": [
    "mask = (t>(774-0.25))*(t<(775-0.25))\n",
    "masked_date = t[mask]\n",
    "masked = np.mod(t[mask],1)\n",
    "kernel = 1.0*(masked<0.25)+(masked>0.75)\n",
    "plt.plot(masked,masked_date,'.')\n",
    "print(np.sum(masked_date*kernel))\n",
    "print(np.sum(masked_date*kernel/sum(kernel)))"
   ]
  },
  {
   "cell_type": "code",
   "execution_count": 407,
   "metadata": {},
   "outputs": [
    {
     "name": "stdout",
     "output_type": "stream",
     "text": [
      "116024.81234361968\n",
      "773.4987489574645\n"
     ]
    },
    {
     "data": {
      "image/png": "[encoded data removed]",
      "text/plain": [
       "<Figure size 432x288 with 1 Axes>"
      ]
     },
     "metadata": {
      "needs_background": "light"
     },
     "output_type": "display_data"
    }
   ],
   "source": [
    "mask = (t>(774-0.75))*(t<(775-0.75))\n",
    "masked_date = t[mask]\n",
    "masked = np.linspace(0,1,masked_date.shape[0])\n",
    "kernel = kernel = 1.0*(masked<0.5)# move this outside\n",
    "plt.plot(masked,masked_date,'.')\n",
    "print(np.sum(masked_date*kernel))\n",
    "\n",
    "print(np.sum(masked_date*kernel)/np.sum(kernel))"
   ]
  },
  {
   "cell_type": "code",
   "execution_count": 399,
   "metadata": {},
   "outputs": [
    {
     "data": {
      "text/plain": [
       "[<matplotlib.lines.Line2D at 0x7fd96fcb01c0>]"
      ]
     },
     "execution_count": 399,
     "metadata": {},
     "output_type": "execute_result"
    },
    {
     "data": {
      "image/png": "[encoded data removed]",
      "text/plain": [
       "<Figure size 432x288 with 1 Axes>"
      ]
     },
     "metadata": {
      "needs_background": "light"
     },
     "output_type": "display_data"
    }
   ],
   "source": [
    "plt.plot(masked,kernel, 'o')"
   ]
  },
  {
   "cell_type": "code",
   "execution_count": 3,
   "metadata": {},
   "outputs": [
    {
     "name": "stderr",
     "output_type": "stream",
     "text": [
      "INFO[2021-12-07 14:13:47,532]: Unable to initialize backend 'tpu_driver': Not found: Unable to find driver in registry given worker: \n",
      "INFO[2021-12-07 14:13:47,534]: Unable to initialize backend 'gpu': Not found: Could not find registered platform with name: \"cuda\". Available platform names are: Interpreter Host\n",
      "INFO[2021-12-07 14:13:47,537]: Unable to initialize backend 'tpu': Invalid argument: TpuPlatform is not available.\n",
      "WARNING[2021-12-07 14:13:47,539]: No GPU/TPU found, falling back to CPU. (Set TF_CPP_MIN_LOG_LEVEL=0 and rerun for more info.)\n"
     ]
    }
   ],
   "source": [
    "cbm = load_presaved_model('Guttler14', production_rate_units='atoms/cm^2/s')\n",
    "cbm.compile()"
   ]
  },
  {
   "cell_type": "code",
   "execution_count": 8,
   "metadata": {},
   "outputs": [],
   "source": [
    "start = 760\n",
    "resolution = 996\n",
    "burn_in_time = np.linspace(760 - 1000, 760, resolution)\n",
    "steady_state_burn_in = cbm.equilibrate(target_C_14=707)\n",
    "burn_in_solutions = cbm.equilibrate(production_rate=steady_state_burn_in)\n",
    "d_14_time_series_fine = np.linspace(760, 788, 2700)\n",
    "d_14_time_series_coarse = np.arange(760, 788)\n",
    "\n",
    "\n",
    "\n",
    "def sg(t, start_time, duration, area):\n",
    "    middle = start_time + duration / 2.\n",
    "    height = area / duration\n",
    "    return height * jnp.exp(- ((t - middle) / (1. / 1.88349 * duration)) ** 8.)\n",
    "\n",
    "\n",
    "def miyake_event(t, start_time, duration, phase, area):\n",
    "    height = sg(t, start_time, duration, area)\n",
    "    prod = steady_state_burn_in + 0.18 * steady_state_burn_in * jnp.sin(2 * np.pi / 11 * t + phase) + height\n",
    "    return prod\n"
   ]
  },
  {
   "cell_type": "code",
   "execution_count": 9,
   "metadata": {},
   "outputs": [],
   "source": [
    "cbm.define_growth_season(['october', 'november', 'december', 'january', 'february', 'march'])\n",
    "burn_in, _ = cbm.run(burn_in_time, production=miyake_event, args=(775, 1 / 12, np.pi / 2, 81 / 12),\n",
    "                     y0=burn_in_solutions)\n",
    "prod = miyake_event(d_14_time_series_fine, 775, 1 / 12, np.pi / 2, 81 / 12)\n",
    "event, _ = cbm.run(d_14_time_series_fine, production=miyake_event, args=(775, 1 / 12, np.pi / 2, 81 / 12),\n",
    "                   y0=burn_in[-1, :])\n",
    "d_14_c = cbm.run_D_14_C_values(d_14_time_series_coarse, 996, production=miyake_event,\n",
    "                               args=(775, 1 / 12, np.pi / 2, 81 / 12),\n",
    "                               y0=burn_in[-1, :], steady_state_solutions=burn_in_solutions)\n",
    "\n",
    "# cbm.compile()\n",
    "\n",
    "\n",
    "cbm.define_growth_season(['april', 'may', 'june', 'july', 'august', 'september'])\n",
    "# cbm.compile()\n",
    "burn_in2, _ = cbm.run(burn_in_time, production=miyake_event, args=(775, 1 / 12,  np.pi / 2, 81 / 12),\n",
    "                      y0=burn_in_solutions)\n",
    "d_14_c2 = cbm.run_D_14_C_values(d_14_time_series_coarse, 996, production=miyake_event,\n",
    "                                args=(775, 1 / 12, np.pi/2, 81 / 12),\n",
    "                                y0=burn_in2[-1, :], steady_state_solutions=burn_in_solutions)"
   ]
  },
  {
   "cell_type": "code",
   "execution_count": 12,
   "metadata": {},
   "outputs": [
    {
     "name": "stdout",
     "output_type": "stream",
     "text": [
      "[ 1.16459288  1.93364497  2.33389961  2.23123289  1.64308662  0.73911062\n",
      " -0.21004004 -0.91764824 -1.17175059 -0.9025514  -0.20481823  0.69195055\n",
      "  1.49615591  1.94648001  1.89468924  1.35256424 14.08499854 16.01329326\n",
      " 15.64485953 14.69225433 13.90807649 13.50252536 13.37270432 13.26978604\n",
      " 12.93723064 12.21586064 11.10140139  9.74544141]\n",
      "[ 1.16459288  1.93364497  2.33389961  2.23123289  1.64308662  0.73911062\n",
      " -0.21004004 -0.91764824 -1.17175059 -0.9025514  -0.20481823  0.69195055\n",
      "  1.49615591  1.94648001  1.89468924  1.35256424 14.08499854 16.01329326\n",
      " 15.64485953 14.69225433 13.90807649 13.50252536 13.37270432 13.26978604\n",
      " 12.93723064 12.21586064 11.10140139  9.74544141]\n"
     ]
    }
   ],
   "source": [
    "\n",
    "\n",
    "# event2, _ = cbm.run(d_14_time_series_fine, production=miyake_event, args=(775, 1 / 12, np.pi / 2, 81 / 12),\n",
    "#                     y0=burn_in2[-1, :])\n"
   ]
  },
  {
   "cell_type": "code",
   "execution_count": 10,
   "metadata": {},
   "outputs": [
    {
     "data": {
      "image/png": "[encoded data removed]",
      "text/plain": [
       "<Figure size 1152x432 with 2 Axes>"
      ]
     },
     "metadata": {
      "needs_background": "light"
     },
     "output_type": "display_data"
    }
   ],
   "source": [
    "vals = [-21.63, -22.28, -22.64, -23.83, -22.20, -22.99, -20.73, -21.59, -25.32, -25.6, -25.70, -24.00, -23.73,\n",
    "        -21.91, -23.44, -9.335, -6.46, -9.70, -11.17, -10.31, -11.10, -10.72, -10.67, -8.63, -9.68, -9.31,\n",
    "        -12.33, -14.44]\n",
    "\n",
    "import matplotlib.pyplot as plt\n",
    "\n",
    "fig, (ax1, ax2) = plt.subplots(1, 2, figsize=(16.0, 6.0))\n",
    "\n",
    "ax1.plot(d_14_time_series_coarse, vals, 'ro')\n",
    "ax1.plot(d_14_time_series_coarse, d_14_c - 22.64846153846154, 'bo')\n",
    "ax1.plot(d_14_time_series_coarse, d_14_c2 - 22.64846153846154, 'go')\n",
    "\n",
    "ax1.legend([\"Guttler Data\", \"northern hemisphere\", \"southern hemisphere\"])\n",
    "ax2.plot(d_14_time_series_fine, event[:, 1], 'ro')\n",
    "a = 774.75\n",
    "plt.axvline(a)\n",
    "plt.axvline(a + 0.5)\n",
    "# plt.axvline(a + 1)\n",
    "# # # ax2.set_ylim(0,5)\n",
    "# # ax2.set_xlim(774, 776)\n",
    "\n",
    "plt.ticklabel_format(useOffset=False)\n",
    "\n",
    "plt.show()"
   ]
  }
 ],
 "metadata": {
  "kernelspec": {
   "display_name": "ticktack",
   "language": "python",
   "name": "ticktack"
  },
  "language_info": {
   "codemirror_mode": {
    "name": "ipython",
    "version": 3
   },
   "file_extension": ".py",
   "mimetype": "text/x-python",
   "name": "python",
   "nbconvert_exporter": "python",
   "pygments_lexer": "ipython3",
   "version": "3.8.5"
  }
 },
 "nbformat": 4,
 "nbformat_minor": 5
}
