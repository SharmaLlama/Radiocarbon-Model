{
 "cells": [
  {
   "cell_type": "code",
   "execution_count": 1,
   "id": "87054299",
   "metadata": {},
   "outputs": [],
   "source": [
    "import jax.numpy as jnp\n",
    "import jax.ops\n",
    "import scipy as scipy\n",
    "import scipy.integrate\n",
    "import scipy.optimize\n",
    "from jax import jit\n",
    "from functools import partial\n",
    "import numpy as np\n",
    "from jax.experimental.ode import odeint\n",
    "from ticktack import load_presaved_model, Box, Flow, CarbonBoxModel\n",
    "import numpy as np\n",
    "import matplotlib.pyplot as plt\n",
    "from jax.lax import cond, dynamic_update_slice, fori_loop, dynamic_slice"
   ]
  },
  {
   "cell_type": "code",
   "execution_count": 2,
   "id": "3e796da4",
   "metadata": {},
   "outputs": [
    {
     "name": "stderr",
     "output_type": "stream",
     "text": [
      "WARNING:absl:No GPU/TPU found, falling back to CPU. (Set TF_CPP_MIN_LOG_LEVEL=0 and rerun for more info.)\n"
     ]
    },
    {
     "data": {
      "text/plain": [
       "jaxlib.xla_extension.DeviceArray"
      ]
     },
     "execution_count": 2,
     "metadata": {},
     "output_type": "execute_result"
    }
   ],
   "source": [
    "a = jnp.array([1,2,3])\n",
    "type(a)"
   ]
  },
  {
   "cell_type": "code",
   "execution_count": null,
   "id": "33d3b7bb",
   "metadata": {},
   "outputs": [],
   "source": [
    "@partial(jit, static_argnums=(0,2,3, 5, 6,7 ))\n",
    "def run(cbm, time_out, oversample,production, y0=None, args=(), target_C_14=None, steady_state_production=None):\n",
    "        @jit\n",
    "        def derivative(y, t):\n",
    "            ans = jnp.matmul(cbm._matrix, y)\n",
    "            production_rate_constant = production(t, *args)\n",
    "            production_rate_constant = cbm._convert_production_rate(production_rate_constant)\n",
    "            production_term = cbm._production_coefficients * production_rate_constant\n",
    "            return ans + production_term\n",
    "\n",
    "        time_out = jnp.array(time_out)\n",
    "        time_values = jnp.linspace(jnp.min(time_out) - 1, jnp.max(time_out) + 1, (time_out.shape[0] + 1) * oversample)\n",
    "        solution = None\n",
    "        if y0 is not None:\n",
    "            y_initial = jnp.array(y0)\n",
    "        else:\n",
    "            if steady_state_production is not None:\n",
    "                solution = cbm.equilibrate(production_rate=steady_state_production)\n",
    "\n",
    "            elif target_C_14 is not None:\n",
    "                solution = cbm.equilibrate(production_rate=cbm.equilibrate(target_C_14=target_C_14))\n",
    "            else:\n",
    "                ValueError(\"Must give either target C-14 or production rate.\")\n",
    "            y_initial = jnp.array(solution)\n",
    "\n",
    "        if not callable(production):\n",
    "            raise ValueError(\"incorrect object type for production\")\n",
    "\n",
    "        states = odeint(derivative, y_initial, time_values, atol=1e-15, rtol=1e-15)\n",
    "        return states, solution, time_values"
   ]
  }
 ],
 "metadata": {
  "kernelspec": {
   "display_name": "ticktack2",
   "language": "python",
   "name": "ticktack2"
  },
  "language_info": {
   "codemirror_mode": {
    "name": "ipython",
    "version": 3
   },
   "file_extension": ".py",
   "mimetype": "text/x-python",
   "name": "python",
   "nbconvert_exporter": "python",
   "pygments_lexer": "ipython3",
   "version": "3.8.12"
  }
 },
 "nbformat": 4,
 "nbformat_minor": 5
}
